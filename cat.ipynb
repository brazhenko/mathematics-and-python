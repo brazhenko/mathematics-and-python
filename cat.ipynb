{
 "cells": [
  {
   "cell_type": "code",
   "execution_count": 3,
   "metadata": {
    "collapsed": true
   },
   "outputs": [],
   "source": [
    "import numpy as np\n",
    "import scipy\n",
    "import pandas as pd\n",
    "import matplotlib.pyplot as plt"
   ]
  },
  {
   "cell_type": "code",
   "execution_count": 4,
   "metadata": {
    "collapsed": true
   },
   "outputs": [],
   "source": [
    "%matplotlib inline"
   ]
  },
  {
   "cell_type": "code",
   "execution_count": 477,
   "metadata": {
    "collapsed": true
   },
   "outputs": [],
   "source": [
    "l = open('sentences.txt').read().lower()\n",
    "l = re.split('[^a-zA-Z]', l)"
   ]
  },
  {
   "cell_type": "code",
   "execution_count": 500,
   "metadata": {
    "collapsed": false
   },
   "outputs": [
    {
     "data": {
      "text/plain": [
       "['in comparison to dogs, cats have not undergone major changes during the domestication process.',\n",
       " 'as cat simply catenates streams of bytes, it can be also used to concatenate binary files, where it will just concatenate sequence of bytes.',\n",
       " 'a common interactive use of cat for a single file is to output the content of a file to standard output.',\n",
       " 'cats can hear sounds too faint or too high in frequency for human ears, such as those made by mice and other small animals.',\n",
       " 'in one, people deliberately tamed cats in a process of artificial selection, as they were useful predators of vermin.',\n",
       " 'the domesticated cat and its closest wild ancestor are both diploid organisms that possess 38 chromosomes and roughly 20,000 genes.',\n",
       " 'domestic cats are similar in size to the other members of the genus felis, typically weighing between 4 and 5 kg (8.8 and 11.0 lb).',\n",
       " 'however, if the output is piped or redirected, cat is unnecessary.',\n",
       " 'cat with one named file is safer where human error is a concern - one wrong use of the default redirection symbol \">\" instead of \"<\" (often adjacent on keyboards) may permanently delete the file you were just needing to read.',\n",
       " 'in terms of legibility, a sequence of commands starting with cat and connected by pipes has a clear left-to-right flow of information.',\n",
       " 'cat command is one of the basic commands that you learned when you started in the unix / linux world.',\n",
       " 'using cat command, the lines received from stdin can be redirected to a new file using redirection symbols.',\n",
       " 'when you type simply cat command without any arguments, it just receives the stdin content and displays it in the stdout.',\n",
       " 'leopard was released on october 26, 2007 as the successor of tiger (version 10.4), and is available in two editions.',\n",
       " 'according to apple, leopard contains over 300 changes and enhancements over its predecessor, mac os x tiger.',\n",
       " 'as of mid 2010, some apple computers have firmware factory installed which will no longer allow installation of mac os x leopard.',\n",
       " 'since apple moved to using intel processors in their computers, the osx86 community has developed and now also allows mac os x tiger and later releases to be installed on non-apple x86-based computers.',\n",
       " \"os x mountain lion was released on july 25, 2012 for purchase and download through apple's mac app store, as part of a switch to releasing os x versions online and every year.\",\n",
       " 'apple has released a small patch for the three most recent versions of safari running on os x yosemite, mavericks, and mountain lion.',\n",
       " 'the mountain lion release marks the second time apple has offered an incremental upgrade, rather than releasing a new cat entirely.',\n",
       " \"mac os x mountain lion installs in place, so you won't need to create a separate disk or run the installation off an external drive.\",\n",
       " \"the fifth major update to mac os x, leopard, contains such a mountain of features - more than 300 by apple's count.\",\n",
       " '']"
      ]
     },
     "execution_count": 500,
     "metadata": {},
     "output_type": "execute_result"
    }
   ],
   "source": [
    "sentences = open('sentences.txt').read().lower().split('\\n')\n",
    "sentences"
   ]
  },
  {
   "cell_type": "code",
   "execution_count": 506,
   "metadata": {
    "collapsed": true
   },
   "outputs": [],
   "source": [
    "sentences1 =[]"
   ]
  },
  {
   "cell_type": "code",
   "execution_count": 507,
   "metadata": {
    "collapsed": false
   },
   "outputs": [],
   "source": [
    "for sent in sentences:\n",
    "    sentences1.append(re.split('[^a-zA-Z]', sent))"
   ]
  },
  {
   "cell_type": "code",
   "execution_count": 479,
   "metadata": {
    "collapsed": false
   },
   "outputs": [],
   "source": [
    "l_no_spaces = []\n",
    "for word in l:\n",
    "    if word:\n",
    "        l_no_spaces.append(word)"
   ]
  },
  {
   "cell_type": "code",
   "execution_count": 483,
   "metadata": {
    "collapsed": false
   },
   "outputs": [],
   "source": [
    "no_double_words = (list(set(l_no_spaces)))"
   ]
  },
  {
   "cell_type": "code",
   "execution_count": 484,
   "metadata": {
    "collapsed": true
   },
   "outputs": [],
   "source": [
    "w_c = []"
   ]
  },
  {
   "cell_type": "code",
   "execution_count": 485,
   "metadata": {
    "collapsed": true
   },
   "outputs": [],
   "source": [
    "for word in no_double_words:\n",
    "    w_c.append(l_no_spaces.count(word))"
   ]
  },
  {
   "cell_type": "code",
   "execution_count": 489,
   "metadata": {
    "collapsed": false
   },
   "outputs": [],
   "source": [
    "dict_count = dict(zip(no_double_words, w_c))"
   ]
  },
  {
   "cell_type": "code",
   "execution_count": 493,
   "metadata": {
    "collapsed": false
   },
   "outputs": [],
   "source": [
    "words_to_nums = (dict(zip(no_double_words, list(range(254)))))"
   ]
  },
  {
   "cell_type": "code",
   "execution_count": 494,
   "metadata": {
    "collapsed": true
   },
   "outputs": [],
   "source": [
    "nums_to_count = (dict(zip(list(range(254)), w_c)))"
   ]
  },
  {
   "cell_type": "code",
   "execution_count": 496,
   "metadata": {
    "collapsed": false
   },
   "outputs": [],
   "source": [
    "m = np.zeros([22, 254])"
   ]
  },
  {
   "cell_type": "code",
   "execution_count": 510,
   "metadata": {
    "collapsed": false
   },
   "outputs": [],
   "source": [
    "for i in range(22):\n",
    "    for j in range(254):\n",
    "        m[i, j] = sentences1[i].count(no_double_words[j])\n",
    "        "
   ]
  },
  {
   "cell_type": "code",
   "execution_count": 516,
   "metadata": {
    "collapsed": false
   },
   "outputs": [
    {
     "data": {
      "text/plain": [
       "1.0"
      ]
     },
     "execution_count": 516,
     "metadata": {},
     "output_type": "execute_result"
    }
   ],
   "source": [
    "m[0, 185]"
   ]
  },
  {
   "cell_type": "code",
   "execution_count": 514,
   "metadata": {
    "collapsed": false
   },
   "outputs": [
    {
     "name": "stdout",
     "output_type": "stream",
     "text": [
      "[[0. 0. 0. ... 0. 0. 0.]\n",
      " [1. 0. 0. ... 0. 0. 0.]\n",
      " [0. 0. 0. ... 0. 0. 0.]\n",
      " ...\n",
      " [0. 0. 0. ... 0. 0. 1.]\n",
      " [0. 0. 0. ... 1. 0. 0.]\n",
      " [0. 0. 0. ... 0. 0. 0.]]\n"
     ]
    }
   ],
   "source": [
    "print(m)"
   ]
  },
  {
   "cell_type": "code",
   "execution_count": 521,
   "metadata": {
    "collapsed": false
   },
   "outputs": [],
   "source": [
    "from scipy.spatial import distance"
   ]
  },
  {
   "cell_type": "code",
   "execution_count": 525,
   "metadata": {
    "collapsed": false
   },
   "outputs": [
    {
     "name": "stdout",
     "output_type": "stream",
     "text": [
      "1 0.9527544408738466\n",
      "2 0.8644738145642124\n",
      "3 0.8951715163278082\n",
      "4 0.7770887149698589\n",
      "5 0.9402385695332803\n",
      "6 0.7327387580875756\n",
      "7 0.9258750683338899\n",
      "8 0.8842724875284311\n",
      "9 0.9055088817476932\n",
      "10 0.8328165362273942\n",
      "11 0.8804771390665607\n",
      "12 0.8396432548525454\n",
      "13 0.8703592552895671\n",
      "14 0.8740118423302576\n",
      "15 0.9442721787424647\n",
      "16 0.8406361854220809\n",
      "17 0.956644501523794\n",
      "18 0.9442721787424647\n",
      "19 0.8885443574849294\n",
      "20 0.8427572744917122\n",
      "21 0.8250364469440588\n"
     ]
    }
   ],
   "source": [
    "cosine_distances = []\n",
    "for i in range(1, 22):\n",
    "    print(i, distance.cosine(m[i], m[0]))\n",
    "    cosine_distances.append(distance.cosine(m[i], m[0]))"
   ]
  },
  {
   "cell_type": "code",
   "execution_count": 528,
   "metadata": {
    "collapsed": false
   },
   "outputs": [
    {
     "data": {
      "text/plain": [
       "0.7327387580875756"
      ]
     },
     "execution_count": 528,
     "metadata": {},
     "output_type": "execute_result"
    }
   ],
   "source": [
    "min(cosine_distances)"
   ]
  },
  {
   "cell_type": "code",
   "execution_count": 529,
   "metadata": {
    "collapsed": false
   },
   "outputs": [],
   "source": [
    "answer1 = open(\"submission-1.txt\", \"w\")\n",
    "answer1.write(\"4 6\")\n",
    "answer1.close()"
   ]
  },
  {
   "cell_type": "code",
   "execution_count": 24,
   "metadata": {
    "collapsed": true
   },
   "outputs": [],
   "source": [
    "import math\n",
    "def f(x):\n",
    "    return math.sin(x / 5) * math.exp(x / 10) + 5 * math.exp(-x / 2)"
   ]
  },
  {
   "cell_type": "code",
   "execution_count": 13,
   "metadata": {
    "collapsed": true
   },
   "outputs": [],
   "source": [
    "x = np.linspace(1, 15, 100)"
   ]
  },
  {
   "cell_type": "code",
   "execution_count": 26,
   "metadata": {
    "collapsed": false
   },
   "outputs": [],
   "source": [
    "y = np.array(list(map(f, x)))"
   ]
  },
  {
   "cell_type": "code",
   "execution_count": 30,
   "metadata": {
    "collapsed": false
   },
   "outputs": [
    {
     "name": "stdout",
     "output_type": "stream",
     "text": [
      "3.252216865271419 0.6352214195786656\n"
     ]
    }
   ],
   "source": [
    "print(f(1), f(15))"
   ]
  },
  {
   "cell_type": "code",
   "execution_count": 69,
   "metadata": {
    "collapsed": false
   },
   "outputs": [
    {
     "data": {
      "text/plain": [
       "[<matplotlib.lines.Line2D at 0x7f5bd8eaac88>]"
      ]
     },
     "execution_count": 69,
     "metadata": {},
     "output_type": "execute_result"
    },
    {
     "data": {
      "image/png": "[encoded data removed]",
      "text/plain": [
       "<matplotlib.figure.Figure at 0x7f5bd8ed3ba8>"
      ]
     },
     "metadata": {},
     "output_type": "display_data"
    }
   ],
   "source": [
    "plt.plot(x, y)\n",
    "plt.plot(x, g(x))\n",
    "plt.plot(x, h(x), c='black')"
   ]
  },
  {
   "cell_type": "code",
   "execution_count": 55,
   "metadata": {
    "collapsed": false
   },
   "outputs": [
    {
     "data": {
      "text/plain": [
       "13.999999999999996"
      ]
     },
     "execution_count": 55,
     "metadata": {},
     "output_type": "execute_result"
    }
   ],
   "source": [
    "w = np.array([[1, 1], [1,15]])\n",
    "np.linalg.det(w)"
   ]
  },
  {
   "cell_type": "code",
   "execution_count": 35,
   "metadata": {
    "collapsed": true
   },
   "outputs": [],
   "source": [
    "right = np.array([f(1), f(15)])"
   ]
  },
  {
   "cell_type": "code",
   "execution_count": 36,
   "metadata": {
    "collapsed": false
   },
   "outputs": [
    {
     "data": {
      "text/plain": [
       "array([ 3.43914511, -0.18692825])"
      ]
     },
     "execution_count": 36,
     "metadata": {},
     "output_type": "execute_result"
    }
   ],
   "source": [
    "np.linalg.solve(w, right)"
   ]
  },
  {
   "cell_type": "code",
   "execution_count": 39,
   "metadata": {
    "collapsed": true
   },
   "outputs": [],
   "source": [
    "def g(x):\n",
    "    return 3.43914511 -0.18692825 * x"
   ]
  },
  {
   "cell_type": "code",
   "execution_count": 61,
   "metadata": {
    "collapsed": false
   },
   "outputs": [
    {
     "name": "stdout",
     "output_type": "stream",
     "text": [
      "[[   1    1    1    1]\n",
      " [   1    4   16   64]\n",
      " [   1   10  100 1000]\n",
      " [   1   15  225 3375]]\n",
      "[3.25221687 1.74684595 2.45082365 0.63522142]\n"
     ]
    }
   ],
   "source": [
    "c1 = np.array([[1, 1, 1, 1], [1, 4, 4 ** 2, 4 ** 3], [1, 10, 10 ** 2, 10 ** 3], [1, 15 ** 1, 15 ** 2, 15 ** 3]])\n",
    "print(c1)\n",
    "solve1 = np.array([f(1), f(4), f(9), f(15)])\n",
    "print(solve1)"
   ]
  },
  {
   "cell_type": "code",
   "execution_count": 165,
   "metadata": {
    "collapsed": false
   },
   "outputs": [],
   "source": [
    "c2 = np.array([[1, 0, 0, 0, 0], [1, 0.5, 0.5**2, 0.5**3, 0.5**4], [1, 0.8, 0.8**2, 0.8**3, 0.8**4], [1, 0.9, 0.9**2, 0.9**3, 0.9**4], [1, 1, 1, 1, 1]])"
   ]
  },
  {
   "cell_type": "code",
   "execution_count": 166,
   "metadata": {
    "collapsed": false
   },
   "outputs": [
    {
     "name": "stdout",
     "output_type": "stream",
     "text": [
      "[[1.     0.     0.     0.     0.    ]\n",
      " [1.     0.5    0.25   0.125  0.0625]\n",
      " [1.     0.8    0.64   0.512  0.4096]\n",
      " [1.     0.9    0.81   0.729  0.6561]\n",
      " [1.     1.     1.     1.     1.    ]]\n"
     ]
    }
   ],
   "source": [
    "print(c2)"
   ]
  },
  {
   "cell_type": "code",
   "execution_count": 169,
   "metadata": {
    "collapsed": false
   },
   "outputs": [
    {
     "name": "stdout",
     "output_type": "stream",
     "text": [
      "[0.  0.6 0.7 0.8 1. ]\n"
     ]
    }
   ],
   "source": [
    "solve2 = np.array([0, 0.6, 0.7, 0.8, 1])\n",
    "print(solve2)"
   ]
  },
  {
   "cell_type": "code",
   "execution_count": 170,
   "metadata": {
    "collapsed": false
   },
   "outputs": [
    {
     "name": "stdout",
     "output_type": "stream",
     "text": [
      "[ 0.          1.66388889  0.61388889 -4.88888889  3.61111111]\n"
     ]
    }
   ],
   "source": [
    "w2 = np.linalg.solve(c2, solve2)\n",
    "print(w2)"
   ]
  },
  {
   "cell_type": "code",
   "execution_count": 172,
   "metadata": {
    "collapsed": true
   },
   "outputs": [],
   "source": [
    "x = np.linspace(0, 1, 1000)\n",
    "def zero_to_one(x):\n",
    "    return 1.66388889 * x + 0.61388889 * x**2 -4.88888889 * x**3 + 3.61111111 * x**4"
   ]
  },
  {
   "cell_type": "code",
   "execution_count": 178,
   "metadata": {
    "collapsed": false
   },
   "outputs": [
    {
     "data": {
      "text/plain": [
       "[<matplotlib.lines.Line2D at 0x7f5bd835e128>]"
      ]
     },
     "execution_count": 178,
     "metadata": {},
     "output_type": "execute_result"
    },
    {
     "data": {
      "image/png": "[encoded data removed]",
      "text/plain": [
       "<matplotlib.figure.Figure at 0x7f5bd83d1438>"
      ]
     },
     "metadata": {},
     "output_type": "display_data"
    }
   ],
   "source": [
    "plt.figure(figsize=(5, 5))\n",
    "plt.plot(x, zero_to_one(x))\n"
   ]
  },
  {
   "cell_type": "code",
   "execution_count": 80,
   "metadata": {
    "collapsed": false
   },
   "outputs": [],
   "source": [
    "\n",
    "\n",
    "\n",
    "\n",
    "w1 = np.linalg.solve(c1, solve1)\n",
    "w1 = np.array(list(map(lambda x :round(x, 2), w1)))"
   ]
  },
  {
   "cell_type": "code",
   "execution_count": 82,
   "metadata": {
    "collapsed": false
   },
   "outputs": [],
   "source": [
    "! echo \"4.35 -1.28 0.19 -0.01\" > \"submission-2.txt\""
   ]
  },
  {
   "cell_type": "code",
   "execution_count": 65,
   "metadata": {
    "collapsed": true
   },
   "outputs": [],
   "source": [
    "def h(x):\n",
    "    return w1[0] + x * w1[1] + x * x * w1[2] + x * x * x * w1[3]"
   ]
  },
  {
   "cell_type": "code",
   "execution_count": 179,
   "metadata": {
    "collapsed": true
   },
   "outputs": [],
   "source": [
    "def f(x, y):\n",
    "    return -(x**4 + 2 * x**2 * y + 10 * x**2 + 6 * x * y + 10 * y**2 - 6 * x + 4)\n",
    "def dx(x, y):\n",
    "    return -(4 * x**3 + 4 * x * y + 20 * x + 6 * y - 6)\n",
    "    \n",
    "def dy(x, y):\n",
    "    return -(2 * x**2 + 6 * x + 20 * y)"
   ]
  },
  {
   "cell_type": "code",
   "execution_count": 180,
   "metadata": {
    "collapsed": false
   },
   "outputs": [
    {
     "name": "stdout",
     "output_type": "stream",
     "text": [
      "6 0\n"
     ]
    }
   ],
   "source": [
    "x, y = 0, 0\n",
    "rate = 0.001\n",
    "print(dx(0, 0), dy(0, 0))"
   ]
  },
  {
   "cell_type": "code",
   "execution_count": 182,
   "metadata": {
    "collapsed": true
   },
   "outputs": [],
   "source": [
    "x1 = []\n",
    "y1 = []"
   ]
  },
  {
   "cell_type": "code",
   "execution_count": 183,
   "metadata": {
    "collapsed": false
   },
   "outputs": [
    {
     "name": "stdout",
     "output_type": "stream",
     "text": [
      "0.006 0.0\n",
      "0.005879999136000001 -3.607200000000001e-05\n",
      "0.00576261145671609 -7.084082357494272e-05\n",
      "0.0056477748440959185 -0.00010433993050185014\n",
      "0.005535428953682448 -0.0001366021416469267\n",
      "0.0054255151417108615 -0.00016765964357904283\n",
      "0.005317976396546449 -0.0001975439935566241\n",
      "0.005212757274154043 -0.0002262861248586892\n",
      "0.005109803837313009 -0.00025391635243249153\n",
      "0.005009063598313387 -0.00028046437883181934\n",
      "0.004910485464888676 -0.0003059593004214994\n",
      "0.004814019689159131 -0.0003304296138250407\n",
      "0.004719617819376256 -0.0003539032225936633\n",
      "0.0046272326542749044 -0.000376407444076176\n",
      "0.004536818199853663 -0.00039796901647031824\n",
      "0.0044483296284175905 -0.00041861410603726056\n",
      "0.0043617232397296 -0.00043836831446197514\n",
      "0.004276956424128129 -0.0004572566863431465\n",
      "0.0041939876274792115 -0.00047530371679720053\n",
      "0.004112776317840804 -0.0004925333591618816\n",
      "0.004033282953726064 -0.0005089690327856231\n",
      "0.003955468953860705 -0.0005246336308897184\n",
      "0.0038792966683370974 -0.0005395495284910337\n",
      "0.003804729351074934 -0.0005537385903736871\n",
      "0.003731731133504828 -0.0005672221790987843\n",
      "0.0036602669993972717 -0.0005800211630419122\n",
      "0.0035903027607650188 -0.0005921559244487004\n",
      "0.0035218050347721476 -0.0006036463674993132\n",
      "0.0034547412215878755 -0.0006145119263732774\n",
      "0.003389079483127671 -0.0006247715733065657\n",
      "0.0033247887226283126 -0.0006344438266333413\n",
      "0.0032618385650074002 -0.0006435467588052353\n",
      "0.00320019933796133 -0.0006520980043814755\n",
      "0.0031398420537590596 -0.0006601147679836087\n",
      "0.0030807383916920017 -0.0006676138322089569\n",
      "0.0030228606811431944 -0.0006746115654973475\n",
      "0.002966181885241532 -0.0006811239299460097\n",
      "0.0029106755850692155 -0.0006871664890678961\n",
      "0.002856315964392839 -0.0006927544154890103\n",
      "0.0028030777948905863 -0.0006979024985806528\n",
      "0.0027509364218499346 -0.0007026251520227974\n",
      "0.002699867750312026 -0.0007069364212950985\n",
      "0.002649848231640526 -0.0007108499910923194\n",
      "0.002600854850494289 -0.000714379192661216\n",
      "0.002552865112184574 -0.0007175370110561886\n",
      "0.0025058570303988547 -0.000720336092311228\n",
      "0.0024598091152744643 -0.0007227887505259369\n",
      "0.0024147003618064464 -0.000724906974863598\n",
      "0.002370510238575015 -0.0007267024364594961\n",
      "0.0023272186767789665 -0.0007281864952378735\n",
      "0.0022848060595623055 -0.0007293702066361014\n",
      "0.00224325321162213 -0.0007302643282348181\n",
      "0.0022025413890866116 -0.000730879326292965\n",
      "0.0021626522696525812 -0.0007312253821867925\n",
      "0.0021235679429729144 -0.0007313123987520817\n",
      "0.0020852709012844704 -0.0007311500065289546\n",
      "0.0020477440302679377 -0.0007307475699087872\n",
      "0.0020109706001314276 -0.0007301141931828738\n",
      "0.001974934256910139 -0.0007292587264925964\n",
      "0.0019396190139748743 -0.0007281897716809921\n",
      "0.0019050092437425709 -0.0007269156880456889\n",
      "0.0018710896695824264 -0.0007254445979933107\n",
      "0.0018378453579114922 -0.0007237843925955285\n",
      "0.0018052617104740074 -0.0007219427370470304\n",
      "0.0017733244567989842 -0.0007199270760257732\n",
      "0.0017420196468308548 -0.0007177446389559427\n",
      "0.0017113336437282714 -0.0007154024451741404\n",
      "0.0016812531168263628 -0.0007129073089993717\n",
      "0.0016517650347579744 -0.0007102658447074744\n",
      "0.0016228566587296526 -0.0007074844714106979\n",
      "0.0015945155359482844 -0.000704569417843181\n",
      "0.0015667294931945284 -0.0007015267270531434\n",
      "0.0015394866305393072 -0.0006983622610026459\n",
      "0.001512775315199777 -0.0006950817050758132\n",
      "0.0014865841755313828 -0.0006916905724964686\n",
      "0.001460902095152683 -0.0006881942086561469\n",
      "0.0014357182071997922 -0.0006845977953535029\n",
      "0.001411021888707385 -0.0006809063549461496\n",
      "0.001386802755113325 -0.0006771247544159977\n",
      "0.001363050654884094 -0.0006732577093491872\n",
      "0.0013397556642582443 -0.0006693097878317217\n",
      "0.0013169080821052637 -0.0006652854142619487\n",
      "0.0012944984248972515 -0.0006611888730810219\n",
      "0.001272517421790922 -0.0006570243124225264\n",
      "0.0012509560098175304 -0.0006527957476824332\n",
      "0.0012298053291783617 -0.0006485070650105802\n",
      "0.0012090567186435052 -0.0006441620247248725\n",
      "0.0011887017110516949 -0.0006397642646494073\n",
      "0.0011687320289090622 -0.000635317303377737\n",
      "0.0011491395800846788 -0.0006308245434624817\n",
      "0.001129916453600866 -0.000626289274532505\n",
      "0.0011110549155162435 -0.0006217146763388754\n",
      "0.0010925474048995864 -0.0006171038217308205\n",
      "0.0010743865298925633 -0.0006124596795629025\n",
      "0.001056565063859516 -0.0006077851175346082\n",
      "0.0010390759416224373 -0.0006030829049635747\n",
      "0.0010219122557793884 -0.0005983557154936469\n",
      "0.001005067253104583 -0.0005936061297389632\n",
      "0.0009885343310284886 -0.0005888366378652572\n",
      "0.0009723070341962021 -0.0005840496421095589\n"
     ]
    }
   ],
   "source": [
    "value = 0\n",
    "for i in range(100):\n",
    "    d_x = dx(x, y) * rate\n",
    "    d_y = dy(x, y) * rate\n",
    "    print(d_x, d_y)\n",
    "    x = x + d_x\n",
    "    y = y + d_y\n",
    "    x1.append(x)\n",
    "    y1.append(y)"
   ]
  },
  {
   "cell_type": "code",
   "execution_count": 184,
   "metadata": {
    "collapsed": false
   },
   "outputs": [
    {
     "name": "stdout",
     "output_type": "stream",
     "text": [
      "0.2691687121554893 -0.05903342024501803\n"
     ]
    }
   ],
   "source": [
    "print(x, y)"
   ]
  },
  {
   "cell_type": "code",
   "execution_count": 185,
   "metadata": {
    "collapsed": false
   },
   "outputs": [
    {
     "data": {
      "text/plain": [
       "-3.0457105400422826"
      ]
     },
     "execution_count": 185,
     "metadata": {},
     "output_type": "execute_result"
    }
   ],
   "source": [
    "f(x,y)"
   ]
  },
  {
   "cell_type": "code",
   "execution_count": 163,
   "metadata": {
    "collapsed": false
   },
   "outputs": [
    {
     "data": {
      "text/plain": [
       "<matplotlib.collections.PathCollection at 0x7f5bd85ce400>"
      ]
     },
     "execution_count": 163,
     "metadata": {},
     "output_type": "execute_result"
    },
    {
     "data": {
      "image/png": "[encoded data removed]",
      "text/plain": [
       "<matplotlib.figure.Figure at 0x7f5bd85baf60>"
      ]
     },
     "metadata": {},
     "output_type": "display_data"
    }
   ],
   "source": [
    "plt.scatter(x1, y1)"
   ]
  },
  {
   "cell_type": "code",
   "execution_count": 164,
   "metadata": {
    "collapsed": true
   },
   "outputs": [],
   "source": [
    "def f(x):\n",
    "    return 2 * x**5 - 8 * x**4 + 7 *x**3- 6 * x**2 + 10 * x - 6 "
   ]
  },
  {
   "cell_type": "code",
   "execution_count": null,
   "metadata": {
    "collapsed": true
   },
   "outputs": [],
   "source": []
  }
 ],
 "metadata": {
  "anaconda-cloud": {},
  "kernelspec": {
   "display_name": "Python [default]",
   "language": "python",
   "name": "python3"
  },
  "language_info": {
   "codemirror_mode": {
    "name": "ipython",
    "version": 3
   },
   "file_extension": ".py",
   "mimetype": "text/x-python",
   "name": "python",
   "nbconvert_exporter": "python",
   "pygments_lexer": "ipython3",
   "version": "3.5.2"
  }
 },
 "nbformat": 4,
 "nbformat_minor": 1
}
